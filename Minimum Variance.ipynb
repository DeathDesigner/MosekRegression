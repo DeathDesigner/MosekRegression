{
 "metadata": {
  "name": ""
 },
 "nbformat": 3,
 "nbformat_minor": 0,
 "worksheets": [
  {
   "cells": [
    {
     "cell_type": "markdown",
     "metadata": {},
     "source": [
      "In this script we show all steps required to construct a minimum variance portfolio. Such a portfolio requires the solution of a constrained least squares problem. We solve it using Mosek. We have developed a thin layer sitting on top of the new Mosek Fusion interface. \n",
      "\n",
      "We first load testdata from a file we have constructed in a previous experiment. We make use of the pandas library.\n",
      "\n",
      "In a second step we determine the weights minimizing the variance of the resulting portfolio.\n"
     ]
    },
    {
     "cell_type": "code",
     "collapsed": false,
     "input": [
      "import os\n",
      "import pandas as pd\n",
      "print pd.__version__"
     ],
     "language": "python",
     "metadata": {},
     "outputs": [
      {
       "output_type": "stream",
       "stream": "stdout",
       "text": [
        "0.12.0\n"
       ]
      }
     ],
     "prompt_number": 37
    },
    {
     "cell_type": "markdown",
     "metadata": {},
     "source": [
      "Function to compute the returns for the columns of a dataframe"
     ]
    },
    {
     "cell_type": "code",
     "collapsed": false,
     "input": [
      "def returns(frame):\n",
      "    def __compute_return(ts):\n",
      "        ts = ts.dropna()\n",
      "        return ts.diff() / ts.shift(1)\n",
      "\n",
      "    return frame.apply(__compute_return).fillna(value=0.0)"
     ],
     "language": "python",
     "metadata": {},
     "outputs": [],
     "prompt_number": 38
    },
    {
     "cell_type": "markdown",
     "metadata": {},
     "source": [
      "Load data from a csv file and compute returns"
     ]
    },
    {
     "cell_type": "code",
     "collapsed": false,
     "input": [
      "data = pd.read_csv(os.path.join(\"data\", \"data.csv\"), index_col=0, parse_dates=True)\n",
      "\n",
      "stocks = returns(data[[\"GOOG\", \"T\", \"AAPL\", \"GS\", \"IBM\"]])\n",
      "index = returns(data[[\"^GSPC\"]])[\"^GSPC\"]"
     ],
     "language": "python",
     "metadata": {},
     "outputs": [],
     "prompt_number": 39
    },
    {
     "cell_type": "markdown",
     "metadata": {},
     "source": [
      "Import numpy, Expr from mosek fusion and the MosekTools"
     ]
    },
    {
     "cell_type": "code",
     "collapsed": false,
     "input": [
      "import numpy as np\n",
      "\n",
      "from mosek.fusion import Expr\n",
      "\n",
      "import mosekTools.solver.model.model as mModel\n",
      "import mosekTools.solver.model.math as mMath\n",
      "import mosekTools.solver.model.bound as mBound"
     ],
     "language": "python",
     "metadata": {},
     "outputs": [],
     "prompt_number": 40
    },
    {
     "cell_type": "code",
     "collapsed": false,
     "input": [
      "matrix = stocks.values"
     ],
     "language": "python",
     "metadata": {},
     "outputs": [],
     "prompt_number": 41
    },
    {
     "cell_type": "code",
     "collapsed": false,
     "input": [
      "# define model\n",
      "model = mModel.build_model('minVariance')\n",
      "\n",
      "# introduce n non-negative weight variables\n",
      "weights = mModel.weights(model, \"weights\", n=matrix.shape[1], lb=0.0)\n",
      "\n",
      "# e'*w = 1\n",
      "mBound.equal(model, Expr.sum(weights), 1.0)\n",
      "\n",
      "v = mMath.l2_norm(model, \"2-norm(res)\", expr=mMath.mat_vec_prod(matrix, weights))\n",
      "\n",
      "# minimization of the residual\n",
      "mModel.minimise(model=model, expr=v)\n",
      "\n",
      "sol = np.array(weights.level())\n",
      "res = v.level()\n",
      "\n",
      "print sol\n",
      "print res"
     ],
     "language": "python",
     "metadata": {},
     "outputs": [
      {
       "output_type": "stream",
       "stream": "stdout",
       "text": [
        "[  5.53851694e-02   6.68027524e-01   2.62170762e-02   6.83611074e-08\n",
        "   2.50370185e-01]\n",
        "[0.25819873485402356]\n"
       ]
      }
     ],
     "prompt_number": 42
    },
    {
     "cell_type": "code",
     "collapsed": false,
     "input": [
      "weights = pd.Series(index=stocks.keys(), data=sol)\n",
      "print weights\n",
      "print weights.sum()"
     ],
     "language": "python",
     "metadata": {},
     "outputs": [
      {
       "output_type": "stream",
       "stream": "stdout",
       "text": [
        "GOOG    5.538517e-02\n",
        "T       6.680275e-01\n",
        "AAPL    2.621708e-02\n",
        "GS      6.836111e-08\n",
        "IBM     2.503702e-01\n",
        "dtype: float64\n",
        "1.00000002284\n"
       ]
      }
     ],
     "prompt_number": 43
    },
    {
     "cell_type": "code",
     "collapsed": false,
     "input": [
      "history = (stocks * weights).sum(axis=1)\n",
      "(history + 1.0).cumprod().plot()"
     ],
     "language": "python",
     "metadata": {},
     "outputs": [
      {
       "metadata": {},
       "output_type": "pyout",
       "prompt_number": 44,
       "text": [
        "<matplotlib.axes.AxesSubplot at 0x3a7d550>"
       ]
      },
      {
       "metadata": {},
       "output_type": "display_data",
       "png": "[encoded data removed]",
       "text": [
        "<matplotlib.figure.Figure at 0x3be8950>"
       ]
      }
     ],
     "prompt_number": 44
    }
   ],
   "metadata": {}
  }
 ]
}